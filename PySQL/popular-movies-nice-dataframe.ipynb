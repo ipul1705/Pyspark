{
 "cells": [
  {
   "cell_type": "code",
   "execution_count": 26,
   "id": "7ff3742d-7834-4ed0-b85a-04eb6331a535",
   "metadata": {},
   "outputs": [],
   "source": [
    "# -*- coding: utf-8 -*-\n",
    "#\"\"\"\n",
    "#Created on Mon Sep  7 15:28:00 2020\n",
    "\n",
    "#@author: Frank\n",
    "#\"\"\""
   ]
  },
  {
   "cell_type": "code",
   "execution_count": 27,
   "id": "28b77bc1-6d2a-4224-bc2b-4cbf864c8aec",
   "metadata": {},
   "outputs": [],
   "source": [
    "from pyspark.sql import SparkSession\n",
    "from pyspark.sql import functions as func\n",
    "from pyspark.sql.types import StructType, StructField, IntegerType, LongType\n",
    "import codecs"
   ]
  },
  {
   "cell_type": "code",
   "execution_count": 28,
   "id": "b36a24f0-7734-41c7-b553-ee5fa2af428c",
   "metadata": {},
   "outputs": [],
   "source": [
    "#Function for create broadcast\n",
    "def loadMovieNames():\n",
    "    movieNames = {}\n",
    "    # CHANGE THIS TO THE PATH TO YOUR u.ITEM FILE:\n",
    "    with codecs.open(\"C:/SparkCourse/ml-100k/u.ITEM\", \"r\", encoding='ISO-8859-1', errors='ignore') as f:\n",
    "        for line in f:\n",
    "            fields = line.split('|')\n",
    "            movieNames[int(fields[0])] = fields[1]\n",
    "    return movieNames"
   ]
  },
  {
   "cell_type": "code",
   "execution_count": 29,
   "id": "33322af8-a3f8-4948-9e75-6d2041827080",
   "metadata": {},
   "outputs": [],
   "source": [
    "spark = SparkSession.builder.appName(\"PopularMovies\").getOrCreate()"
   ]
  },
  {
   "cell_type": "code",
   "execution_count": 30,
   "id": "e27a652e-d56a-4ec5-88fe-207589c2f83a",
   "metadata": {},
   "outputs": [],
   "source": [
    "#Call Funct Broadcast\n",
    "nameDict = spark.sparkContext.broadcast(loadMovieNames())"
   ]
  },
  {
   "cell_type": "code",
   "execution_count": 31,
   "id": "214365bc-6067-4bf5-97c0-a5205804a8e5",
   "metadata": {},
   "outputs": [],
   "source": [
    "# Create schema when reading u.data\n",
    "schema = StructType([ \\\n",
    "                     StructField(\"userID\", IntegerType(), True), \\\n",
    "                     StructField(\"movieID\", IntegerType(), True), \\\n",
    "                     StructField(\"rating\", IntegerType(), True), \\\n",
    "                     StructField(\"timestamp\", LongType(), True)])"
   ]
  },
  {
   "cell_type": "code",
   "execution_count": 32,
   "id": "6afe9be8-72ec-40f4-a409-35e8cca79540",
   "metadata": {},
   "outputs": [
    {
     "name": "stdout",
     "output_type": "stream",
     "text": [
      "+-------+-----+\n",
      "|movieID|count|\n",
      "+-------+-----+\n",
      "|496    |231  |\n",
      "|471    |221  |\n",
      "|463    |71   |\n",
      "|148    |128  |\n",
      "|1342   |2    |\n",
      "|833    |49   |\n",
      "|1088   |13   |\n",
      "|1591   |6    |\n",
      "|1238   |8    |\n",
      "|1580   |1    |\n",
      "|1645   |1    |\n",
      "|392    |68   |\n",
      "|623    |39   |\n",
      "|540    |43   |\n",
      "|858    |3    |\n",
      "|737    |59   |\n",
      "|243    |132  |\n",
      "|1025   |44   |\n",
      "|1084   |21   |\n",
      "|1127   |11   |\n",
      "+-------+-----+\n",
      "only showing top 20 rows\n",
      "\n"
     ]
    }
   ],
   "source": [
    "# Load up movie data as dataframe\n",
    "moviesDF = spark.read.option(\"sep\", \"\\t\").schema(schema).csv(\"file:///c:/SparkCourse/ml-100k/u.data\")\n",
    "movieCounts = moviesDF.groupBy(\"movieID\").count()\n",
    "movieCounts.show(20, False)"
   ]
  },
  {
   "cell_type": "code",
   "execution_count": 33,
   "id": "1fdd24f4-dfba-4499-adbc-ab1ea522d071",
   "metadata": {},
   "outputs": [],
   "source": [
    "# Create a user-defined function to look up movie names from our broadcasted dictionary\n",
    "def lookupName(movieID):\n",
    "    return nameDict.value[movieID]\n",
    "\n",
    "lookupNameUDF = func.udf(lookupName)"
   ]
  },
  {
   "cell_type": "code",
   "execution_count": 34,
   "id": "72ac5788-5f04-4e78-bec7-2206e7ec56cb",
   "metadata": {},
   "outputs": [],
   "source": [
    "# Add a movieTitle column using our new udf\n",
    "moviesWithNames = movieCounts.withColumn(\"movieTitle\", lookupNameUDF(func.col(\"movieID\")))"
   ]
  },
  {
   "cell_type": "code",
   "execution_count": 35,
   "id": "a194712a-4499-4307-aa3f-0b143876f657",
   "metadata": {},
   "outputs": [],
   "source": [
    "# Sort the results\n",
    "sortedMoviesWithNames = moviesWithNames.orderBy(func.desc(\"count\"))"
   ]
  },
  {
   "cell_type": "code",
   "execution_count": 36,
   "id": "b272f080-30af-4544-a0cb-fedebb633b98",
   "metadata": {},
   "outputs": [
    {
     "name": "stdout",
     "output_type": "stream",
     "text": [
      "+-------+-----+--------------------------------+\n",
      "|movieID|count|movieTitle                      |\n",
      "+-------+-----+--------------------------------+\n",
      "|50     |583  |Star Wars (1977)                |\n",
      "|258    |509  |Contact (1997)                  |\n",
      "|100    |508  |Fargo (1996)                    |\n",
      "|181    |507  |Return of the Jedi (1983)       |\n",
      "|294    |485  |Liar Liar (1997)                |\n",
      "|286    |481  |English Patient, The (1996)     |\n",
      "|288    |478  |Scream (1996)                   |\n",
      "|1      |452  |Toy Story (1995)                |\n",
      "|300    |431  |Air Force One (1997)            |\n",
      "|121    |429  |Independence Day (ID4) (1996)   |\n",
      "|174    |420  |Raiders of the Lost Ark (1981)  |\n",
      "|127    |413  |Godfather, The (1972)           |\n",
      "|56     |394  |Pulp Fiction (1994)             |\n",
      "|7      |392  |Twelve Monkeys (1995)           |\n",
      "|98     |390  |Silence of the Lambs, The (1991)|\n",
      "|237    |384  |Jerry Maguire (1996)            |\n",
      "|117    |378  |Rock, The (1996)                |\n",
      "|172    |367  |Empire Strikes Back, The (1980) |\n",
      "|222    |365  |Star Trek: First Contact (1996) |\n",
      "|204    |350  |Back to the Future (1985)       |\n",
      "+-------+-----+--------------------------------+\n",
      "only showing top 20 rows\n",
      "\n"
     ]
    }
   ],
   "source": [
    "# Grab the top 10\n",
    "sortedMoviesWithNames.show(20, False)"
   ]
  },
  {
   "cell_type": "code",
   "execution_count": 37,
   "id": "3315dd1b-4140-4571-84c6-facf76c02369",
   "metadata": {},
   "outputs": [],
   "source": [
    "# Stop the session\n",
    "spark.stop()"
   ]
  },
  {
   "cell_type": "code",
   "execution_count": null,
   "id": "fce8ee94-b109-488a-bbd4-b1695242166d",
   "metadata": {},
   "outputs": [],
   "source": []
  }
 ],
 "metadata": {
  "kernelspec": {
   "display_name": "Python 3 (ipykernel)",
   "language": "python",
   "name": "python3"
  },
  "language_info": {
   "codemirror_mode": {
    "name": "ipython",
    "version": 3
   },
   "file_extension": ".py",
   "mimetype": "text/x-python",
   "name": "python",
   "nbconvert_exporter": "python",
   "pygments_lexer": "ipython3",
   "version": "3.11.7"
  }
 },
 "nbformat": 4,
 "nbformat_minor": 5
}
