{
 "cells": [
  {
   "cell_type": "code",
   "execution_count": 1,
   "id": "3073daeb-1db1-451f-85dd-696170f685b9",
   "metadata": {},
   "outputs": [],
   "source": [
    "from pyspark.sql import SparkSession"
   ]
  },
  {
   "cell_type": "code",
   "execution_count": 2,
   "id": "84f2f9bd-9ca9-4636-ab9f-4a0709cc7baf",
   "metadata": {},
   "outputs": [],
   "source": [
    "spark = SparkSession.builder.appName(\"SparkSQL\").getOrCreate()"
   ]
  },
  {
   "cell_type": "code",
   "execution_count": 3,
   "id": "06c86954-fcf8-4c41-884d-068f96fe0b67",
   "metadata": {},
   "outputs": [],
   "source": [
    "people = spark.read.option(\"header\", \"true\").option(\"inferSchema\", \"true\")\\\n",
    "    .csv(\"file:///c:/SparkCourse/Dataset/fakefriends-header.csv\")"
   ]
  },
  {
   "cell_type": "code",
   "execution_count": 4,
   "id": "1689ae7b-c45b-42a6-a193-921a14bdaba0",
   "metadata": {},
   "outputs": [
    {
     "name": "stdout",
     "output_type": "stream",
     "text": [
      "Here is our inferred schema:\n",
      "root\n",
      " |-- userID: integer (nullable = true)\n",
      " |-- name: string (nullable = true)\n",
      " |-- age: integer (nullable = true)\n",
      " |-- friends: integer (nullable = true)\n",
      "\n"
     ]
    }
   ],
   "source": [
    "print(\"Here is our inferred schema:\")\n",
    "people.printSchema()"
   ]
  },
  {
   "cell_type": "code",
   "execution_count": 5,
   "id": "bb083e11-fde5-44d2-83c5-9928ac6718fd",
   "metadata": {},
   "outputs": [
    {
     "name": "stdout",
     "output_type": "stream",
     "text": [
      "Let's display the name column:\n",
      "+--------+\n",
      "|    name|\n",
      "+--------+\n",
      "|    Will|\n",
      "|Jean-Luc|\n",
      "|    Hugh|\n",
      "|  Deanna|\n",
      "|   Quark|\n",
      "|  Weyoun|\n",
      "|  Gowron|\n",
      "|    Will|\n",
      "|  Jadzia|\n",
      "|    Hugh|\n",
      "|     Odo|\n",
      "|     Ben|\n",
      "|   Keiko|\n",
      "|Jean-Luc|\n",
      "|    Hugh|\n",
      "|     Rom|\n",
      "|  Weyoun|\n",
      "|     Odo|\n",
      "|Jean-Luc|\n",
      "|  Geordi|\n",
      "+--------+\n",
      "only showing top 20 rows\n",
      "\n"
     ]
    }
   ],
   "source": [
    "print(\"Let's display the name column:\")\n",
    "people.select(\"name\").show()"
   ]
  },
  {
   "cell_type": "code",
   "execution_count": 6,
   "id": "ceb30d41-abd0-447e-8a76-7bc788369a95",
   "metadata": {},
   "outputs": [
    {
     "name": "stdout",
     "output_type": "stream",
     "text": [
      "Filter out anyone over 21:\n",
      "+------+-------+---+-------+\n",
      "|userID|   name|age|friends|\n",
      "+------+-------+---+-------+\n",
      "|    21|  Miles| 19|    268|\n",
      "|    48|    Nog| 20|      1|\n",
      "|    52|Beverly| 19|    269|\n",
      "|    54|  Brunt| 19|      5|\n",
      "|    60| Geordi| 20|    100|\n",
      "|    73|  Brunt| 20|    384|\n",
      "|   106|Beverly| 18|    499|\n",
      "|   115|  Dukat| 18|    397|\n",
      "|   133|  Quark| 19|    265|\n",
      "|   136|   Will| 19|    335|\n",
      "|   225|   Elim| 19|    106|\n",
      "|   304|   Will| 19|    404|\n",
      "|   327| Julian| 20|     63|\n",
      "|   341|   Data| 18|    326|\n",
      "|   349| Kasidy| 20|    277|\n",
      "|   366|  Keiko| 19|    119|\n",
      "|   373|  Quark| 19|    272|\n",
      "|   377|Beverly| 18|    418|\n",
      "|   404| Kasidy| 18|     24|\n",
      "|   409|    Nog| 19|    267|\n",
      "+------+-------+---+-------+\n",
      "only showing top 20 rows\n",
      "\n"
     ]
    }
   ],
   "source": [
    "print(\"Filter out anyone over 21:\")\n",
    "people.filter(people.age < 21).show()"
   ]
  },
  {
   "cell_type": "code",
   "execution_count": 7,
   "id": "49dda84a-a8b1-41d6-8287-bfe6e5071784",
   "metadata": {},
   "outputs": [
    {
     "name": "stdout",
     "output_type": "stream",
     "text": [
      "Group by age\n",
      "+---+-----+\n",
      "|age|count|\n",
      "+---+-----+\n",
      "| 31|    8|\n",
      "| 65|    5|\n",
      "| 53|    7|\n",
      "| 34|    6|\n",
      "| 28|   10|\n",
      "| 26|   17|\n",
      "| 27|    8|\n",
      "| 44|   12|\n",
      "| 22|    7|\n",
      "| 47|    9|\n",
      "| 52|   11|\n",
      "| 40|   17|\n",
      "| 20|    5|\n",
      "| 57|   12|\n",
      "| 54|   13|\n",
      "| 48|   10|\n",
      "| 19|   11|\n",
      "| 64|   12|\n",
      "| 41|    9|\n",
      "| 43|    7|\n",
      "+---+-----+\n",
      "only showing top 20 rows\n",
      "\n"
     ]
    }
   ],
   "source": [
    "print(\"Group by age\")\n",
    "people.groupBy(\"age\").count().show()"
   ]
  },
  {
   "cell_type": "code",
   "execution_count": 8,
   "id": "53aeb639-9490-46df-bcce-273f7e4fbbce",
   "metadata": {},
   "outputs": [
    {
     "name": "stdout",
     "output_type": "stream",
     "text": [
      "Make everyone 10 years older:\n",
      "+--------+----------+\n",
      "|    name|(age + 10)|\n",
      "+--------+----------+\n",
      "|    Will|        43|\n",
      "|Jean-Luc|        36|\n",
      "|    Hugh|        65|\n",
      "|  Deanna|        50|\n",
      "|   Quark|        78|\n",
      "|  Weyoun|        69|\n",
      "|  Gowron|        47|\n",
      "|    Will|        64|\n",
      "|  Jadzia|        48|\n",
      "|    Hugh|        37|\n",
      "|     Odo|        63|\n",
      "|     Ben|        67|\n",
      "|   Keiko|        64|\n",
      "|Jean-Luc|        66|\n",
      "|    Hugh|        53|\n",
      "|     Rom|        46|\n",
      "|  Weyoun|        32|\n",
      "|     Odo|        45|\n",
      "|Jean-Luc|        55|\n",
      "|  Geordi|        70|\n",
      "+--------+----------+\n",
      "only showing top 20 rows\n",
      "\n"
     ]
    }
   ],
   "source": [
    "print(\"Make everyone 10 years older:\")\n",
    "people.select(people.name, people.age + 10).show()"
   ]
  },
  {
   "cell_type": "code",
   "execution_count": 9,
   "id": "02bd9390-f999-4fc8-a41a-54d0955f07e7",
   "metadata": {},
   "outputs": [],
   "source": [
    "spark.stop()"
   ]
  },
  {
   "cell_type": "code",
   "execution_count": null,
   "id": "1c300a2d-5f70-4388-b68a-7a5bac0ac282",
   "metadata": {},
   "outputs": [],
   "source": []
  }
 ],
 "metadata": {
  "kernelspec": {
   "display_name": "Python 3 (ipykernel)",
   "language": "python",
   "name": "python3"
  },
  "language_info": {
   "codemirror_mode": {
    "name": "ipython",
    "version": 3
   },
   "file_extension": ".py",
   "mimetype": "text/x-python",
   "name": "python",
   "nbconvert_exporter": "python",
   "pygments_lexer": "ipython3",
   "version": "3.11.7"
  }
 },
 "nbformat": 4,
 "nbformat_minor": 5
}
