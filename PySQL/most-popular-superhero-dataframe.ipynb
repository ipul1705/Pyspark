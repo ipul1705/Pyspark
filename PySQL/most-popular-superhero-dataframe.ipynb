{
 "cells": [
  {
   "cell_type": "code",
   "execution_count": null,
   "id": "93a81248-17eb-4386-801b-55ac21a84845",
   "metadata": {},
   "outputs": [],
   "source": [
    "from pyspark.sql import SparkSession\n",
    "from pyspark.sql import functions as func\n",
    "from pyspark.sql.types import StructType, StructField, IntegerType, StringType"
   ]
  },
  {
   "cell_type": "code",
   "execution_count": null,
   "id": "cb8490c2-2ba7-4fa7-9a26-2cf1d0078d35",
   "metadata": {},
   "outputs": [],
   "source": [
    "spark = SparkSession.builder.appName(\"MostPopularSuperhero\").getOrCreate()"
   ]
  },
  {
   "cell_type": "code",
   "execution_count": null,
   "id": "40988e68-1a2e-408a-ac43-cb9da23892f5",
   "metadata": {},
   "outputs": [],
   "source": [
    "schema = StructType([ \\\n",
    "                     StructField(\"id\", IntegerType(), True), \\\n",
    "                     StructField(\"name\", StringType(), True)])"
   ]
  },
  {
   "cell_type": "code",
   "execution_count": null,
   "id": "884ced23-ba07-4f4b-aa94-f069623aae01",
   "metadata": {},
   "outputs": [],
   "source": [
    "names = spark.read.schema(schema).option(\"sep\", \" \").csv(\"file:///C:/SparkCourse/Dataset/Marvel-names.txt\")"
   ]
  },
  {
   "cell_type": "code",
   "execution_count": null,
   "id": "92320034-1a26-43b6-b247-c6339cab8b74",
   "metadata": {},
   "outputs": [],
   "source": [
    "lines = spark.read.text(\"file:///C:/SparkCourse/Dataset/Marvel-graph.txt\")"
   ]
  },
  {
   "cell_type": "code",
   "execution_count": null,
   "id": "3fcaf8f4-64a2-455c-999a-915163aa39b9",
   "metadata": {},
   "outputs": [],
   "source": [
    "# Small tweak vs. what's shown in the video: we trim each line of whitespace as that could\n",
    "# throw off the counts.\n",
    "connections = lines.withColumn(\"id\", func.split(func.trim(func.col(\"value\")), \" \")[0]) \\\n",
    "    .withColumn(\"connections\", func.size(func.split(func.trim(func.col(\"value\")), \" \")) - 1) \\\n",
    "    .groupBy(\"id\").agg(func.sum(\"connections\").alias(\"connections\"))"
   ]
  },
  {
   "cell_type": "code",
   "execution_count": null,
   "id": "2c77b0ab-71c0-44f1-b3af-b2ec8b485f8c",
   "metadata": {},
   "outputs": [],
   "source": [
    "mostPopular = connections.sort(func.col(\"connections\").asc()).first()\n",
    "print(mostPopular)"
   ]
  },
  {
   "cell_type": "code",
   "execution_count": null,
   "id": "a27238bb-2551-40c2-93b0-859fdcc86744",
   "metadata": {},
   "outputs": [],
   "source": [
    "mostPopularName = names.filter(func.col(\"id\") == mostPopular[0]).select(\"name\").first()\n",
    "print(mostPopularName)"
   ]
  },
  {
   "cell_type": "code",
   "execution_count": null,
   "id": "aed3c246-b09b-4a67-bb67-4afb978915dc",
   "metadata": {},
   "outputs": [],
   "source": [
    "print(mostPopularName[0] + \" is the most popular superhero with \" + str(mostPopular[1]) + \" co-appearances.\")"
   ]
  },
  {
   "cell_type": "code",
   "execution_count": null,
   "id": "5ac1e0a1-9bd9-4a14-ba9b-ee6543d480ed",
   "metadata": {},
   "outputs": [],
   "source": [
    "# Stop the session\n",
    "spark.stop()"
   ]
  },
  {
   "cell_type": "code",
   "execution_count": null,
   "id": "10f443cf-ea3e-48f3-b2a5-cd8499a8100c",
   "metadata": {},
   "outputs": [],
   "source": []
  }
 ],
 "metadata": {
  "kernelspec": {
   "display_name": "Python 3 (ipykernel)",
   "language": "python",
   "name": "python3"
  },
  "language_info": {
   "codemirror_mode": {
    "name": "ipython",
    "version": 3
   },
   "file_extension": ".py",
   "mimetype": "text/x-python",
   "name": "python",
   "nbconvert_exporter": "python",
   "pygments_lexer": "ipython3",
   "version": "3.11.7"
  }
 },
 "nbformat": 4,
 "nbformat_minor": 5
}
